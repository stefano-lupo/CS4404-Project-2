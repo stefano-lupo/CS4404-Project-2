{
 "cells": [
  {
   "cell_type": "code",
   "execution_count": 1,
   "metadata": {},
   "outputs": [
    {
     "name": "stderr",
     "output_type": "stream",
     "text": [
      "Using TensorFlow backend.\n"
     ]
    }
   ],
   "source": [
    "import keras\n",
    "from keras.models import Sequential\n",
    "from keras.layers import Dense, Dropout, Activation\n",
    "from keras.regularizers import l2\n",
    "from keras.utils import to_categorical\n",
    "\n",
    "from collections import Counter\n",
    "from sklearn import linear_model\n",
    "import numpy as np\n",
    "\n",
    "import matplotlib.pyplot as plt\n",
    "\n",
    "from imblearn.over_sampling import RandomOverSampler, SMOTE, ADASYN\n",
    "from imblearn.under_sampling import RandomUnderSampler, ClusterCentroids\n",
    "\n",
    "from util import (\n",
    "    readData,\n",
    "    createDesignMatrix,\n",
    "    createLabelVector,\n",
    "    printM,\n",
    "    splitData7030,\n",
    "    splitUpDataCrossVal,\n",
    "    featureNormalize,\n",
    "    multiclassToBinaryClass,\n",
    "    ACTIVE_DATASET,\n",
    "    TRAINING_PARAMS\n",
    ")\n",
    "\n",
    "from plotCallback import (PlotLossAccuracy)\n",
    "\n",
    "NUM_CLASSES = 10"
   ]
  },
  {
   "cell_type": "code",
   "execution_count": 2,
   "metadata": {},
   "outputs": [
    {
     "name": "stdout",
     "output_type": "stream",
     "text": [
      "Using min-max normalization\n",
      "X:  (3896, 11)\n",
      "y:  (3896,)\n",
      "Using min-max normalization\n"
     ]
    }
   ],
   "source": [
    "\n",
    "data = readData()\n",
    "X = createDesignMatrix(data)\n",
    "X = featureNormalize(X)\n",
    "\n",
    "y = createLabelVector(data)\n",
    "y = np.squeeze(np.asarray(y))\n",
    "print(\"X: \", X.shape)\n",
    "print(\"y: \", y.shape)\n",
    "\n",
    "# np.savetxt(\"split.csv\", yTrain)\n",
    "\n",
    "data = readData(filename='testData.csv')\n",
    "xTest = createDesignMatrix(data)\n",
    "xTest = featureNormalize(xTest)\n",
    "\n",
    "yTest = createLabelVector(data)\n",
    "yTest = np.squeeze(np.asarray(yTest))\n",
    "# yTest = to_categorical(yTest, num_classes=10)"
   ]
  },
  {
   "cell_type": "code",
   "execution_count": 3,
   "metadata": {},
   "outputs": [],
   "source": [
    "# print(np.corrcoef(X[:,0], y)[0,1])\n",
    "# ex,log(x),x2,x3,tanh(x)}x′∈{ex,log⁡(x),x2,x3,tanh⁡(x)}\n",
    "\n",
    "def corelationCoefficients(X, y):\n",
    "    r = []\n",
    "    for i in range(X.shape[1]):\n",
    "        tmp = X[:, i]\n",
    "        cc = np.corrcoef(tmp, y)[0, 1]\n",
    "        r.append(cc)\n",
    "    return r\n",
    "    \n",
    "# Volatile Acidity\n",
    "# Chlorides\n",
    "# Density\n",
    "# Alcohol\n",
    "\n",
    "\n",
    "def getGoodFeatures(cc):\n",
    "    goodFeatures = dict()\n",
    "    for (count, val) in enumerate(cc):\n",
    "        if(abs(val) > 0.2):\n",
    "            goodFeatures[count] = val\n",
    "    return goodFeatures"
   ]
  },
  {
   "cell_type": "code",
   "execution_count": 8,
   "metadata": {},
   "outputs": [
    {
     "name": "stdout",
     "output_type": "stream",
     "text": [
      "Linear:  {1: -0.20944123685385252, 4: -0.20280039805294664, 7: -0.29013964771774797, 10: 0.41259152052123055}\n",
      "Square:  {7: -0.2412479704951104, 10: 0.4159878373894067}\n",
      "Exponentional:  {1: -0.20773525291871739, 7: -0.27539543510003467, 10: 0.41683421720621905}\n"
     ]
    },
    {
     "name": "stderr",
     "output_type": "stream",
     "text": [
      "/home/stefano/.local/lib/python3.6/site-packages/matplotlib/font_manager.py:1316: UserWarning: findfont: Font family ['normal'] not found. Falling back to DejaVu Sans\n",
      "  (prop.get_family(), self.defaultFamily[fontext]))\n"
     ]
    },
    {
     "data": {
      "image/png": "[encoded data removed]",
      "text/plain": [
       "<matplotlib.figure.Figure at 0x7f917183b9b0>"
      ]
     },
     "metadata": {},
     "output_type": "display_data"
    }
   ],
   "source": [
    "features = [\"fixed acidity\", \"volatile acidity\", \"citric acid\", \"residual sugar\", \"chlorides\", \n",
    "            \"free sulfur dioxide\", \"total sulfur dioxide\", \"density\", \"pH\", \"sulphates\", \"alcohol\"]\n",
    "x = range(X.shape[1])\n",
    "\n",
    "\n",
    "font = {'family' : 'normal',\n",
    "        'weight' : 'bold',\n",
    "        'size'   : 26}\n",
    "\n",
    "plt.rc('font', **font)\n",
    "\n",
    "\n",
    "linearCC = corelationCoefficients(X, y)\n",
    "plt.scatter(x, linearCC, label=\"Linear\")\n",
    "print(\"Linear: \", getGoodFeatures(linearCC))\n",
    "\n",
    "squareCC = corelationCoefficients(np.power(X, 2), y)\n",
    "plt.scatter(x, squareCC, label=\"Square\")\n",
    "print(\"Square: \", getGoodFeatures(squareCC))\n",
    "\n",
    "\n",
    "expCC = corelationCoefficients(np.exp(X), y)\n",
    "plt.scatter(x, expCC, label=\"Exp\")\n",
    "print(\"Exponentional: \", getGoodFeatures(expCC))\n",
    "\n",
    "# x = range(X.shape[1])\n",
    "# plt.xticks(x, features)\n",
    "\n",
    "\n",
    "plt.legend()\n",
    "plt.xlabel(\"Feature\")\n",
    "plt.ylabel(\"Correlation Coefficient\")\n",
    "plt.show()\n"
   ]
  },
  {
   "cell_type": "code",
   "execution_count": null,
   "metadata": {},
   "outputs": [],
   "source": []
  }
 ],
 "metadata": {
  "kernelspec": {
   "display_name": "Python 3",
   "language": "python",
   "name": "python3"
  },
  "language_info": {
   "codemirror_mode": {
    "name": "ipython",
    "version": 3
   },
   "file_extension": ".py",
   "mimetype": "text/x-python",
   "name": "python",
   "nbconvert_exporter": "python",
   "pygments_lexer": "ipython3",
   "version": "3.6.2"
  }
 },
 "nbformat": 4,
 "nbformat_minor": 2
}
